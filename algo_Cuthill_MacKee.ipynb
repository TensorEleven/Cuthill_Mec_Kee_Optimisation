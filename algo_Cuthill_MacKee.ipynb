{
 "cells": [
  {
   "cell_type": "code",
   "execution_count": 1,
   "metadata": {},
   "outputs": [],
   "source": [
    "import numpy as np"
   ]
  },
  {
   "cell_type": "code",
   "execution_count": 4,
   "metadata": {
    "scrolled": true
   },
   "outputs": [
    {
     "name": "stdout",
     "output_type": "stream",
     "text": [
      "[[6 0 0 1 1 0 0 1 1 1]\n",
      " [0 4 0 1 0 0 0 0 1 0]\n",
      " [0 0 4 0 1 1 0 1 0 0]\n",
      " [1 1 0 4 1 0 0 0 0 0]\n",
      " [1 0 1 1 6 1 0 0 0 0]\n",
      " [0 0 1 0 1 4 0 1 0 0]\n",
      " [0 0 0 0 0 0 4 0 0 1]\n",
      " [1 0 1 0 0 1 0 6 0 1]\n",
      " [1 1 0 0 0 0 0 0 4 0]\n",
      " [1 0 0 0 0 0 1 1 0 6]]\n"
     ]
    }
   ],
   "source": [
    "A = np.array([\n",
    "    [3,0,0,0,0,0,0,0,0,0],\n",
    "    [0,2,0,0,0,0,0,0,0,0],\n",
    "    [0,0,2,0,0,0,0,0,0,0],\n",
    "    [1,1,0,2,0,0,0,0,0,0],\n",
    "    [1,0,1,1,3,0,0,0,0,0],\n",
    "    [0,0,1,0,1,2,0,0,0,0],\n",
    "    [0,0,0,0,0,0,2,0,0,0],\n",
    "    [1,0,1,0,0,1,0,3,0,0],\n",
    "    [1,1,0,0,0,0,0,0,2,0],\n",
    "    [1,0,0,0,0,0,1,1,0,3]\n",
    "])\n",
    "A = A + A.T\n",
    "print(A)\n",
    "b = np.array([11,8,2,0,4,-4,5,18,7,11])"
   ]
  },
  {
   "cell_type": "code",
   "execution_count": 20,
   "metadata": {},
   "outputs": [
    {
     "name": "stdout",
     "output_type": "stream",
     "text": [
      "10\n",
      "[ 7 10  8  1  6  3  5  9  4  2]\n",
      "[ 4.  1.  3. 10.  5.  8.  6.  2.  7.  9.]\n"
     ]
    }
   ],
   "source": [
    "sigma = np.array([7, 10, 8, 1, 6, 3, 5, 9, 4, 2]) #7 sommet périphérique\n",
    "sigmaI = np.zeros(sigma.shape)\n",
    "N = sigma.shape[0]\n",
    "for i in range(N):\n",
    "    sigmaI[i] = (N + 1) - sigma[i]\n",
    "    \n",
    "print(N)\n",
    "print(sigma)\n",
    "print(sigmaI)\n",
    "#sigmaI = np.array([4,1,3,10,8,5,6,2,7,9])"
   ]
  },
  {
   "cell_type": "code",
   "execution_count": 32,
   "metadata": {},
   "outputs": [
    {
     "name": "stdout",
     "output_type": "stream",
     "text": [
      "[[0. 0. 0. 1. 0. 0. 0. 0. 0. 0.]\n",
      " [0. 0. 0. 0. 0. 0. 0. 0. 0. 1.]\n",
      " [0. 0. 0. 0. 0. 1. 0. 0. 0. 0.]\n",
      " [0. 0. 0. 0. 0. 0. 0. 0. 1. 0.]\n",
      " [0. 0. 0. 0. 0. 0. 1. 0. 0. 0.]\n",
      " [0. 0. 0. 0. 1. 0. 0. 0. 0. 0.]\n",
      " [1. 0. 0. 0. 0. 0. 0. 0. 0. 0.]\n",
      " [0. 0. 1. 0. 0. 0. 0. 0. 0. 0.]\n",
      " [0. 0. 0. 0. 0. 0. 0. 1. 0. 0.]\n",
      " [0. 1. 0. 0. 0. 0. 0. 0. 0. 0.]]\n"
     ]
    }
   ],
   "source": [
    "P = np.zeros(A.shape)\n",
    "for i in range(10):\n",
    "    for j in range(10):\n",
    "        if (i+1) == sigma[j]:\n",
    "            P[i][j] = 1\n",
    "print(P)"
   ]
  },
  {
   "cell_type": "code",
   "execution_count": 34,
   "metadata": {
    "scrolled": true
   },
   "outputs": [
    {
     "name": "stdout",
     "output_type": "stream",
     "text": [
      "[[4. 1. 0. 0. 0. 0. 0. 0. 0. 0.]\n",
      " [1. 6. 1. 1. 0. 0. 0. 0. 0. 0.]\n",
      " [0. 1. 6. 1. 1. 1. 0. 0. 0. 0.]\n",
      " [0. 1. 1. 6. 0. 0. 1. 1. 1. 0.]\n",
      " [0. 0. 1. 0. 4. 1. 1. 0. 0. 0.]\n",
      " [0. 0. 1. 0. 1. 4. 1. 0. 0. 0.]\n",
      " [0. 0. 0. 1. 1. 1. 6. 0. 1. 0.]\n",
      " [0. 0. 0. 1. 0. 0. 0. 4. 0. 1.]\n",
      " [0. 0. 0. 1. 0. 0. 1. 0. 4. 1.]\n",
      " [0. 0. 0. 0. 0. 0. 0. 1. 1. 4.]]\n"
     ]
    }
   ],
   "source": [
    "A_prim = P.T @ A @ P\n",
    "print(A_prim)"
   ]
  },
  {
   "cell_type": "code",
   "execution_count": 35,
   "metadata": {},
   "outputs": [],
   "source": [
    "def fit_inverse(X, y):\n",
    "    \"\"\"Direct method using the inverse\"\"\"\n",
    "    # render X to square dimensions\n",
    "    X_transp = X.T # X transpose\n",
    "    X = X_transp.dot(X) # Xt * X\n",
    "    y = X_transp.dot(y) # Xt * y\n",
    "    #-----\n",
    "    X_inv = np.linalg.inv(X) # X inverse\n",
    "    return X_inv.dot(y)"
   ]
  },
  {
   "cell_type": "code",
   "execution_count": 36,
   "metadata": {},
   "outputs": [
    {
     "name": "stdout",
     "output_type": "stream",
     "text": [
      "[ 1.  2.  0. -1.  1. -2.  1.  3.  1.  1.]\n"
     ]
    }
   ],
   "source": [
    "print(fit_inverse(A,b))"
   ]
  },
  {
   "cell_type": "code",
   "execution_count": 44,
   "metadata": {},
   "outputs": [
    {
     "name": "stdout",
     "output_type": "stream",
     "text": [
      "[ 5. 11. 18. 11. -4.  2.  4.  7.  0.  8.]\n"
     ]
    }
   ],
   "source": [
    "b_prim = P.T @ b\n",
    "print(b_prim)"
   ]
  },
  {
   "cell_type": "code",
   "execution_count": 43,
   "metadata": {},
   "outputs": [
    {
     "name": "stdout",
     "output_type": "stream",
     "text": [
      "[ 1.  1.  3.  1. -2.  0.  1.  1. -1.  2.]\n"
     ]
    }
   ],
   "source": [
    "x_prim = fit_inverse(A_prim, b_prim)\n",
    "print(x_prim)"
   ]
  },
  {
   "cell_type": "code",
   "execution_count": 39,
   "metadata": {},
   "outputs": [
    {
     "name": "stdout",
     "output_type": "stream",
     "text": [
      "[ 1.  2.  0. -1.  1. -2.  1.  3.  1.  1.]\n"
     ]
    }
   ],
   "source": [
    "x = fit_inverse(P.T, x_prim)\n",
    "print(x)"
   ]
  },
  {
   "cell_type": "code",
   "execution_count": null,
   "metadata": {},
   "outputs": [],
   "source": []
  }
 ],
 "metadata": {
  "kernelspec": {
   "display_name": "Python 3",
   "language": "python",
   "name": "python3"
  },
  "language_info": {
   "codemirror_mode": {
    "name": "ipython",
    "version": 3
   },
   "file_extension": ".py",
   "mimetype": "text/x-python",
   "name": "python",
   "nbconvert_exporter": "python",
   "pygments_lexer": "ipython3",
   "version": "3.7.6"
  }
 },
 "nbformat": 4,
 "nbformat_minor": 4
}
